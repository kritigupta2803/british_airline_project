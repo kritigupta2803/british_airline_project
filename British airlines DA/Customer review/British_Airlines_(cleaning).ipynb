{
  "cells": [
    {
      "cell_type": "code",
      "execution_count": 1,
      "metadata": {
        "id": "eWjQ9WvmIa3L"
      },
      "outputs": [],
      "source": [
        "from bs4 import BeautifulSoup\n",
        "import lxml\n",
        "import requests\n",
        "import pandas as pd\n",
        "import matplotlib.pyplot as plt\n",
        "import seaborn as sns\n",
        "import re"
      ]
    },
    {
      "cell_type": "markdown",
      "source": [
        "**DATA CLEANING**"
      ],
      "metadata": {
        "id": "YzQDQQi5POm_"
      }
    },
    {
      "cell_type": "code",
      "source": [
        "df = pd.read_csv(\"BA_reviews.csv\")"
      ],
      "metadata": {
        "id": "hapmYU_gQ9ZM"
      },
      "execution_count": 12,
      "outputs": []
    },
    {
      "cell_type": "code",
      "source": [
        "df.info()"
      ],
      "metadata": {
        "colab": {
          "base_uri": "https://localhost:8080/"
        },
        "id": "cNhGoeHQw-Oz",
        "outputId": "136d2613-b0d9-4995-ec5d-bed5403cee6f"
      },
      "execution_count": 9,
      "outputs": [
        {
          "output_type": "stream",
          "name": "stdout",
          "text": [
            "<class 'pandas.core.frame.DataFrame'>\n",
            "Index: 3500 entries, ✅ Trip Verified |  Came from Glasgow to London and took connecting flight American Airlines from London to North Carolina. It's my third day here in North Carolina and still waiting for my luggage. They didn't even bother to transfer the luggage to connecting flight. Luggage are still in Glasgow.  to ✅ Trip Verified |  Back in December my family and I as we were getting onto the plane were refused. Even though we had boarding passes and seats allocated and had booked 6 months in advance we were refused. It turns out that someone had not turned up to work and they couldn't let all the passengers on the plane. So quite randomly (not) 9 people were selected and turned away. We were selected as we had no check in luggage and it was easier to boot us off despite them not knowing my circumstances, if I had connecting flights in London etc. I sought compensation from BA (which I was told I could do) and what an absolute nightmare this process has been. They wouldn't acknowledge my complaint for my family until I had an authorisation letter from them saying I could act on their behalf. Even though, I booked and paid for the tickets. So, I uploaded the authorisation letter no less than 10 times. Every time they told me they received it and every time I followed it up they told me they hadn't. There was no other way except to post from Australia to the UK to some office. Eventually, it finally go through to them. I have now chased up the reimbursement four times. Each time they tell me it has been sent and to be patient. Today they tell me that they need to check my account details. So, again, I send them the same information that I have done before. AND I wait patiently for my reimbursement. I am convinced that their business model is for you to get so frustrated you just go away. Well, you know what I won't.\n",
            "Data columns (total 3 columns):\n",
            " #   Column   Non-Null Count  Dtype \n",
            "---  ------   --------------  ----- \n",
            " 0   date     3500 non-null   object\n",
            " 1   country  3500 non-null   object\n",
            " 2   stars    3500 non-null   object\n",
            "dtypes: object(3)\n",
            "memory usage: 238.4+ KB\n"
          ]
        }
      ]
    },
    {
      "cell_type": "code",
      "source": [
        "df.head()"
      ],
      "metadata": {
        "colab": {
          "base_uri": "https://localhost:8080/",
          "height": 206
        },
        "id": "rAhBjyI1RE2q",
        "outputId": "090a091c-8e9a-4b5f-ad1c-1e4995b8e951"
      },
      "execution_count": 13,
      "outputs": [
        {
          "output_type": "execute_result",
          "data": {
            "text/plain": [
              "                                             reviews            date  \\\n",
              "0  ✅ Trip Verified |  Came from Glasgow to London...  30th June 2023   \n",
              "1  ✅ Trip Verified |  My flight on on 12 May 2023...  29th June 2023   \n",
              "2  Not Verified |  Cairo is a 5 hour flight and B...  29th June 2023   \n",
              "3  ✅ Trip Verified |  After travelling London to ...  27th June 2023   \n",
              "4  ✅ Trip Verified |  My luggage was mis-tagged i...  27th June 2023   \n",
              "\n",
              "                country stars  \n",
              "0         United States  5/10  \n",
              "1  United Arab Emirates  1/10  \n",
              "2        United Kingdom  1/10  \n",
              "3        United Kingdom  2/10  \n",
              "4         United States  1/10  "
            ],
            "text/html": [
              "\n",
              "  <div id=\"df-07903b24-bb23-4348-a62c-a3e2fadfb34d\">\n",
              "    <div class=\"colab-df-container\">\n",
              "      <div>\n",
              "<style scoped>\n",
              "    .dataframe tbody tr th:only-of-type {\n",
              "        vertical-align: middle;\n",
              "    }\n",
              "\n",
              "    .dataframe tbody tr th {\n",
              "        vertical-align: top;\n",
              "    }\n",
              "\n",
              "    .dataframe thead th {\n",
              "        text-align: right;\n",
              "    }\n",
              "</style>\n",
              "<table border=\"1\" class=\"dataframe\">\n",
              "  <thead>\n",
              "    <tr style=\"text-align: right;\">\n",
              "      <th></th>\n",
              "      <th>reviews</th>\n",
              "      <th>date</th>\n",
              "      <th>country</th>\n",
              "      <th>stars</th>\n",
              "    </tr>\n",
              "  </thead>\n",
              "  <tbody>\n",
              "    <tr>\n",
              "      <th>0</th>\n",
              "      <td>✅ Trip Verified |  Came from Glasgow to London...</td>\n",
              "      <td>30th June 2023</td>\n",
              "      <td>United States</td>\n",
              "      <td>5/10</td>\n",
              "    </tr>\n",
              "    <tr>\n",
              "      <th>1</th>\n",
              "      <td>✅ Trip Verified |  My flight on on 12 May 2023...</td>\n",
              "      <td>29th June 2023</td>\n",
              "      <td>United Arab Emirates</td>\n",
              "      <td>1/10</td>\n",
              "    </tr>\n",
              "    <tr>\n",
              "      <th>2</th>\n",
              "      <td>Not Verified |  Cairo is a 5 hour flight and B...</td>\n",
              "      <td>29th June 2023</td>\n",
              "      <td>United Kingdom</td>\n",
              "      <td>1/10</td>\n",
              "    </tr>\n",
              "    <tr>\n",
              "      <th>3</th>\n",
              "      <td>✅ Trip Verified |  After travelling London to ...</td>\n",
              "      <td>27th June 2023</td>\n",
              "      <td>United Kingdom</td>\n",
              "      <td>2/10</td>\n",
              "    </tr>\n",
              "    <tr>\n",
              "      <th>4</th>\n",
              "      <td>✅ Trip Verified |  My luggage was mis-tagged i...</td>\n",
              "      <td>27th June 2023</td>\n",
              "      <td>United States</td>\n",
              "      <td>1/10</td>\n",
              "    </tr>\n",
              "  </tbody>\n",
              "</table>\n",
              "</div>\n",
              "      <button class=\"colab-df-convert\" onclick=\"convertToInteractive('df-07903b24-bb23-4348-a62c-a3e2fadfb34d')\"\n",
              "              title=\"Convert this dataframe to an interactive table.\"\n",
              "              style=\"display:none;\">\n",
              "        \n",
              "  <svg xmlns=\"http://www.w3.org/2000/svg\" height=\"24px\"viewBox=\"0 0 24 24\"\n",
              "       width=\"24px\">\n",
              "    <path d=\"M0 0h24v24H0V0z\" fill=\"none\"/>\n",
              "    <path d=\"M18.56 5.44l.94 2.06.94-2.06 2.06-.94-2.06-.94-.94-2.06-.94 2.06-2.06.94zm-11 1L8.5 8.5l.94-2.06 2.06-.94-2.06-.94L8.5 2.5l-.94 2.06-2.06.94zm10 10l.94 2.06.94-2.06 2.06-.94-2.06-.94-.94-2.06-.94 2.06-2.06.94z\"/><path d=\"M17.41 7.96l-1.37-1.37c-.4-.4-.92-.59-1.43-.59-.52 0-1.04.2-1.43.59L10.3 9.45l-7.72 7.72c-.78.78-.78 2.05 0 2.83L4 21.41c.39.39.9.59 1.41.59.51 0 1.02-.2 1.41-.59l7.78-7.78 2.81-2.81c.8-.78.8-2.07 0-2.86zM5.41 20L4 18.59l7.72-7.72 1.47 1.35L5.41 20z\"/>\n",
              "  </svg>\n",
              "      </button>\n",
              "      \n",
              "  <style>\n",
              "    .colab-df-container {\n",
              "      display:flex;\n",
              "      flex-wrap:wrap;\n",
              "      gap: 12px;\n",
              "    }\n",
              "\n",
              "    .colab-df-convert {\n",
              "      background-color: #E8F0FE;\n",
              "      border: none;\n",
              "      border-radius: 50%;\n",
              "      cursor: pointer;\n",
              "      display: none;\n",
              "      fill: #1967D2;\n",
              "      height: 32px;\n",
              "      padding: 0 0 0 0;\n",
              "      width: 32px;\n",
              "    }\n",
              "\n",
              "    .colab-df-convert:hover {\n",
              "      background-color: #E2EBFA;\n",
              "      box-shadow: 0px 1px 2px rgba(60, 64, 67, 0.3), 0px 1px 3px 1px rgba(60, 64, 67, 0.15);\n",
              "      fill: #174EA6;\n",
              "    }\n",
              "\n",
              "    [theme=dark] .colab-df-convert {\n",
              "      background-color: #3B4455;\n",
              "      fill: #D2E3FC;\n",
              "    }\n",
              "\n",
              "    [theme=dark] .colab-df-convert:hover {\n",
              "      background-color: #434B5C;\n",
              "      box-shadow: 0px 1px 3px 1px rgba(0, 0, 0, 0.15);\n",
              "      filter: drop-shadow(0px 1px 2px rgba(0, 0, 0, 0.3));\n",
              "      fill: #FFFFFF;\n",
              "    }\n",
              "  </style>\n",
              "\n",
              "      <script>\n",
              "        const buttonEl =\n",
              "          document.querySelector('#df-07903b24-bb23-4348-a62c-a3e2fadfb34d button.colab-df-convert');\n",
              "        buttonEl.style.display =\n",
              "          google.colab.kernel.accessAllowed ? 'block' : 'none';\n",
              "\n",
              "        async function convertToInteractive(key) {\n",
              "          const element = document.querySelector('#df-07903b24-bb23-4348-a62c-a3e2fadfb34d');\n",
              "          const dataTable =\n",
              "            await google.colab.kernel.invokeFunction('convertToInteractive',\n",
              "                                                     [key], {});\n",
              "          if (!dataTable) return;\n",
              "\n",
              "          const docLinkHtml = 'Like what you see? Visit the ' +\n",
              "            '<a target=\"_blank\" href=https://colab.research.google.com/notebooks/data_table.ipynb>data table notebook</a>'\n",
              "            + ' to learn more about interactive tables.';\n",
              "          element.innerHTML = '';\n",
              "          dataTable['output_type'] = 'display_data';\n",
              "          await google.colab.output.renderOutput(dataTable, element);\n",
              "          const docLink = document.createElement('div');\n",
              "          docLink.innerHTML = docLinkHtml;\n",
              "          element.appendChild(docLink);\n",
              "        }\n",
              "      </script>\n",
              "    </div>\n",
              "  </div>\n",
              "  "
            ]
          },
          "metadata": {},
          "execution_count": 13
        }
      ]
    },
    {
      "cell_type": "code",
      "source": [
        "df['verified'] = df.reviews.str.contains(\"Trip Verified\")\n",
        "df['verified']"
      ],
      "metadata": {
        "colab": {
          "base_uri": "https://localhost:8080/"
        },
        "id": "kEhIzfCcROcd",
        "outputId": "99e78d4f-3f37-4fcc-97e0-b0f28ffc5a62"
      },
      "execution_count": 14,
      "outputs": [
        {
          "output_type": "execute_result",
          "data": {
            "text/plain": [
              "0        True\n",
              "1        True\n",
              "2       False\n",
              "3        True\n",
              "4        True\n",
              "        ...  \n",
              "3495    False\n",
              "3496     True\n",
              "3497    False\n",
              "3498     True\n",
              "3499     True\n",
              "Name: verified, Length: 3500, dtype: bool"
            ]
          },
          "metadata": {},
          "execution_count": 14
        }
      ]
    },
    {
      "cell_type": "markdown",
      "source": [
        "**Cleaning Reviews**\n",
        "We will extract the column of reviews into a separate dataframe and clean it for semantic analysis"
      ],
      "metadata": {
        "id": "ZSjyBlr_Seq7"
      }
    },
    {
      "cell_type": "code",
      "source": [
        "#for lemmatization of words we will use nltk library\n",
        "import nltk\n",
        "nltk.download('stopwords')\n",
        "nltk.download('wordnet')\n",
        "from nltk.stem import WordNetLemmatizer\n",
        "from nltk.corpus import stopwords\n",
        "lemma = WordNetLemmatizer()\n"
      ],
      "metadata": {
        "colab": {
          "base_uri": "https://localhost:8080/"
        },
        "id": "oxAvrfJQSZ7G",
        "outputId": "8418bf94-9234-4b12-da3c-4795cc0e2ddf"
      },
      "execution_count": 15,
      "outputs": [
        {
          "output_type": "stream",
          "name": "stderr",
          "text": [
            "[nltk_data] Downloading package stopwords to /root/nltk_data...\n",
            "[nltk_data]   Unzipping corpora/stopwords.zip.\n",
            "[nltk_data] Downloading package wordnet to /root/nltk_data...\n"
          ]
        }
      ]
    },
    {
      "cell_type": "code",
      "source": [
        "reviews_data = df.reviews.str.strip(\"✅ Trip Verified |\")\n",
        "\n",
        "#create an empty list to collect cleaned data corpus\n",
        "corpus =[]\n",
        "\n",
        "#loop through each review, remove punctuations, small case it, join it and add it to corpus\n",
        "for rev in reviews_data:\n",
        "    rev = re.sub('[^a-zA-Z]',' ', rev)\n",
        "    rev = rev.lower()\n",
        "    rev = rev.split()\n",
        "    rev = [lemma.lemmatize(word) for word in rev if word not in set(stopwords.words(\"english\"))]\n",
        "    rev = \" \".join(rev)\n",
        "    corpus.append(rev)"
      ],
      "metadata": {
        "id": "R5liwDpJWqvV"
      },
      "execution_count": 16,
      "outputs": []
    },
    {
      "cell_type": "code",
      "source": [
        "df['corpus'] = corpus"
      ],
      "metadata": {
        "id": "ZphQlpVMX7rN"
      },
      "execution_count": 17,
      "outputs": []
    },
    {
      "cell_type": "code",
      "source": [
        "df.head()"
      ],
      "metadata": {
        "colab": {
          "base_uri": "https://localhost:8080/",
          "height": 206
        },
        "id": "5zaj3z1-YBya",
        "outputId": "312246bd-3a79-42b8-a982-786d50e8c98f"
      },
      "execution_count": 18,
      "outputs": [
        {
          "output_type": "execute_result",
          "data": {
            "text/plain": [
              "                                             reviews            date  \\\n",
              "0  ✅ Trip Verified |  Came from Glasgow to London...  30th June 2023   \n",
              "1  ✅ Trip Verified |  My flight on on 12 May 2023...  29th June 2023   \n",
              "2  Not Verified |  Cairo is a 5 hour flight and B...  29th June 2023   \n",
              "3  ✅ Trip Verified |  After travelling London to ...  27th June 2023   \n",
              "4  ✅ Trip Verified |  My luggage was mis-tagged i...  27th June 2023   \n",
              "\n",
              "                country stars  verified  \\\n",
              "0         United States  5/10      True   \n",
              "1  United Arab Emirates  1/10      True   \n",
              "2        United Kingdom  1/10     False   \n",
              "3        United Kingdom  2/10      True   \n",
              "4         United States  1/10      True   \n",
              "\n",
              "                                              corpus  \n",
              "0  came glasgow london took connecting flight ame...  \n",
              "1  flight may got delayed hour minute resulted ca...  \n",
              "2  verified cairo hour flight ba considers short ...  \n",
              "3  travelling london madrid british airway iberia...  \n",
              "4  luggage mi tagged dallas way cairo via london ...  "
            ],
            "text/html": [
              "\n",
              "  <div id=\"df-0d29e58d-e390-4716-becb-884572f3d361\">\n",
              "    <div class=\"colab-df-container\">\n",
              "      <div>\n",
              "<style scoped>\n",
              "    .dataframe tbody tr th:only-of-type {\n",
              "        vertical-align: middle;\n",
              "    }\n",
              "\n",
              "    .dataframe tbody tr th {\n",
              "        vertical-align: top;\n",
              "    }\n",
              "\n",
              "    .dataframe thead th {\n",
              "        text-align: right;\n",
              "    }\n",
              "</style>\n",
              "<table border=\"1\" class=\"dataframe\">\n",
              "  <thead>\n",
              "    <tr style=\"text-align: right;\">\n",
              "      <th></th>\n",
              "      <th>reviews</th>\n",
              "      <th>date</th>\n",
              "      <th>country</th>\n",
              "      <th>stars</th>\n",
              "      <th>verified</th>\n",
              "      <th>corpus</th>\n",
              "    </tr>\n",
              "  </thead>\n",
              "  <tbody>\n",
              "    <tr>\n",
              "      <th>0</th>\n",
              "      <td>✅ Trip Verified |  Came from Glasgow to London...</td>\n",
              "      <td>30th June 2023</td>\n",
              "      <td>United States</td>\n",
              "      <td>5/10</td>\n",
              "      <td>True</td>\n",
              "      <td>came glasgow london took connecting flight ame...</td>\n",
              "    </tr>\n",
              "    <tr>\n",
              "      <th>1</th>\n",
              "      <td>✅ Trip Verified |  My flight on on 12 May 2023...</td>\n",
              "      <td>29th June 2023</td>\n",
              "      <td>United Arab Emirates</td>\n",
              "      <td>1/10</td>\n",
              "      <td>True</td>\n",
              "      <td>flight may got delayed hour minute resulted ca...</td>\n",
              "    </tr>\n",
              "    <tr>\n",
              "      <th>2</th>\n",
              "      <td>Not Verified |  Cairo is a 5 hour flight and B...</td>\n",
              "      <td>29th June 2023</td>\n",
              "      <td>United Kingdom</td>\n",
              "      <td>1/10</td>\n",
              "      <td>False</td>\n",
              "      <td>verified cairo hour flight ba considers short ...</td>\n",
              "    </tr>\n",
              "    <tr>\n",
              "      <th>3</th>\n",
              "      <td>✅ Trip Verified |  After travelling London to ...</td>\n",
              "      <td>27th June 2023</td>\n",
              "      <td>United Kingdom</td>\n",
              "      <td>2/10</td>\n",
              "      <td>True</td>\n",
              "      <td>travelling london madrid british airway iberia...</td>\n",
              "    </tr>\n",
              "    <tr>\n",
              "      <th>4</th>\n",
              "      <td>✅ Trip Verified |  My luggage was mis-tagged i...</td>\n",
              "      <td>27th June 2023</td>\n",
              "      <td>United States</td>\n",
              "      <td>1/10</td>\n",
              "      <td>True</td>\n",
              "      <td>luggage mi tagged dallas way cairo via london ...</td>\n",
              "    </tr>\n",
              "  </tbody>\n",
              "</table>\n",
              "</div>\n",
              "      <button class=\"colab-df-convert\" onclick=\"convertToInteractive('df-0d29e58d-e390-4716-becb-884572f3d361')\"\n",
              "              title=\"Convert this dataframe to an interactive table.\"\n",
              "              style=\"display:none;\">\n",
              "        \n",
              "  <svg xmlns=\"http://www.w3.org/2000/svg\" height=\"24px\"viewBox=\"0 0 24 24\"\n",
              "       width=\"24px\">\n",
              "    <path d=\"M0 0h24v24H0V0z\" fill=\"none\"/>\n",
              "    <path d=\"M18.56 5.44l.94 2.06.94-2.06 2.06-.94-2.06-.94-.94-2.06-.94 2.06-2.06.94zm-11 1L8.5 8.5l.94-2.06 2.06-.94-2.06-.94L8.5 2.5l-.94 2.06-2.06.94zm10 10l.94 2.06.94-2.06 2.06-.94-2.06-.94-.94-2.06-.94 2.06-2.06.94z\"/><path d=\"M17.41 7.96l-1.37-1.37c-.4-.4-.92-.59-1.43-.59-.52 0-1.04.2-1.43.59L10.3 9.45l-7.72 7.72c-.78.78-.78 2.05 0 2.83L4 21.41c.39.39.9.59 1.41.59.51 0 1.02-.2 1.41-.59l7.78-7.78 2.81-2.81c.8-.78.8-2.07 0-2.86zM5.41 20L4 18.59l7.72-7.72 1.47 1.35L5.41 20z\"/>\n",
              "  </svg>\n",
              "      </button>\n",
              "      \n",
              "  <style>\n",
              "    .colab-df-container {\n",
              "      display:flex;\n",
              "      flex-wrap:wrap;\n",
              "      gap: 12px;\n",
              "    }\n",
              "\n",
              "    .colab-df-convert {\n",
              "      background-color: #E8F0FE;\n",
              "      border: none;\n",
              "      border-radius: 50%;\n",
              "      cursor: pointer;\n",
              "      display: none;\n",
              "      fill: #1967D2;\n",
              "      height: 32px;\n",
              "      padding: 0 0 0 0;\n",
              "      width: 32px;\n",
              "    }\n",
              "\n",
              "    .colab-df-convert:hover {\n",
              "      background-color: #E2EBFA;\n",
              "      box-shadow: 0px 1px 2px rgba(60, 64, 67, 0.3), 0px 1px 3px 1px rgba(60, 64, 67, 0.15);\n",
              "      fill: #174EA6;\n",
              "    }\n",
              "\n",
              "    [theme=dark] .colab-df-convert {\n",
              "      background-color: #3B4455;\n",
              "      fill: #D2E3FC;\n",
              "    }\n",
              "\n",
              "    [theme=dark] .colab-df-convert:hover {\n",
              "      background-color: #434B5C;\n",
              "      box-shadow: 0px 1px 3px 1px rgba(0, 0, 0, 0.15);\n",
              "      filter: drop-shadow(0px 1px 2px rgba(0, 0, 0, 0.3));\n",
              "      fill: #FFFFFF;\n",
              "    }\n",
              "  </style>\n",
              "\n",
              "      <script>\n",
              "        const buttonEl =\n",
              "          document.querySelector('#df-0d29e58d-e390-4716-becb-884572f3d361 button.colab-df-convert');\n",
              "        buttonEl.style.display =\n",
              "          google.colab.kernel.accessAllowed ? 'block' : 'none';\n",
              "\n",
              "        async function convertToInteractive(key) {\n",
              "          const element = document.querySelector('#df-0d29e58d-e390-4716-becb-884572f3d361');\n",
              "          const dataTable =\n",
              "            await google.colab.kernel.invokeFunction('convertToInteractive',\n",
              "                                                     [key], {});\n",
              "          if (!dataTable) return;\n",
              "\n",
              "          const docLinkHtml = 'Like what you see? Visit the ' +\n",
              "            '<a target=\"_blank\" href=https://colab.research.google.com/notebooks/data_table.ipynb>data table notebook</a>'\n",
              "            + ' to learn more about interactive tables.';\n",
              "          element.innerHTML = '';\n",
              "          dataTable['output_type'] = 'display_data';\n",
              "          await google.colab.output.renderOutput(dataTable, element);\n",
              "          const docLink = document.createElement('div');\n",
              "          docLink.innerHTML = docLinkHtml;\n",
              "          element.appendChild(docLink);\n",
              "        }\n",
              "      </script>\n",
              "    </div>\n",
              "  </div>\n",
              "  "
            ]
          },
          "metadata": {},
          "execution_count": 18
        }
      ]
    },
    {
      "cell_type": "code",
      "source": [
        "df.date = pd.to_datetime(df.date)"
      ],
      "metadata": {
        "id": "UlMJsPWuYLGw"
      },
      "execution_count": 20,
      "outputs": []
    },
    {
      "cell_type": "code",
      "source": [
        "df.isnull().value_counts()"
      ],
      "metadata": {
        "colab": {
          "base_uri": "https://localhost:8080/"
        },
        "id": "nqiNRFqtfbZU",
        "outputId": "c3fb2ac8-0c51-4f7e-b529-535b9d86e789"
      },
      "execution_count": 21,
      "outputs": [
        {
          "output_type": "execute_result",
          "data": {
            "text/plain": [
              "reviews  date   country  stars  verified  corpus\n",
              "False    False  False    False  False     False     3500\n",
              "dtype: int64"
            ]
          },
          "metadata": {},
          "execution_count": 21
        }
      ]
    },
    {
      "cell_type": "code",
      "source": [
        "df.country.isnull().value_counts()"
      ],
      "metadata": {
        "colab": {
          "base_uri": "https://localhost:8080/"
        },
        "id": "F5Ns7P1Og-4T",
        "outputId": "39b90ec2-4c06-4ecb-b58e-6a671165827d"
      },
      "execution_count": 22,
      "outputs": [
        {
          "output_type": "execute_result",
          "data": {
            "text/plain": [
              "False    3500\n",
              "Name: country, dtype: int64"
            ]
          },
          "metadata": {},
          "execution_count": 22
        }
      ]
    },
    {
      "cell_type": "markdown",
      "source": [
        "Clean stars"
      ],
      "metadata": {
        "id": "JpbchSXGyp9V"
      }
    },
    {
      "cell_type": "code",
      "source": [
        "df.stars.unique()"
      ],
      "metadata": {
        "colab": {
          "base_uri": "https://localhost:8080/"
        },
        "id": "0vpEFR6_ytfO",
        "outputId": "5537d3ee-dd6c-4bf1-fe67-094bff0b5361"
      },
      "execution_count": 24,
      "outputs": [
        {
          "output_type": "execute_result",
          "data": {
            "text/plain": [
              "array(['5/10', '1/10', '2/10', '4/10', '7/10', '3/10', '9/10', '10/10',\n",
              "       '8/10'], dtype=object)"
            ]
          },
          "metadata": {},
          "execution_count": 24
        }
      ]
    },
    {
      "cell_type": "code",
      "source": [
        "# Extract numerical values and convert to integers\n",
        "df['stars'] = df['stars'].str.split('/').str[0].astype(int)\n",
        "\n",
        "# Print the modified DataFrame\n",
        "print(df)"
      ],
      "metadata": {
        "colab": {
          "base_uri": "https://localhost:8080/"
        },
        "id": "2FYOmCXCzh52",
        "outputId": "b557ab3c-d861-439d-ac78-7b694fc25cce"
      },
      "execution_count": 25,
      "outputs": [
        {
          "output_type": "stream",
          "name": "stdout",
          "text": [
            "                                                reviews       date  \\\n",
            "0     ✅ Trip Verified |  Came from Glasgow to London... 2023-06-30   \n",
            "1     ✅ Trip Verified |  My flight on on 12 May 2023... 2023-06-29   \n",
            "2     Not Verified |  Cairo is a 5 hour flight and B... 2023-06-29   \n",
            "3     ✅ Trip Verified |  After travelling London to ... 2023-06-27   \n",
            "4     ✅ Trip Verified |  My luggage was mis-tagged i... 2023-06-27   \n",
            "...                                                 ...        ...   \n",
            "3495  Not Verified |  This was literally one of the ... 2023-03-13   \n",
            "3496  ✅ Trip Verified |  The usual shambolic unfoldi... 2023-03-12   \n",
            "3497  Not Verified |  Lost my case and took 6 weeks ... 2023-03-12   \n",
            "3498  ✅ Trip Verified |  The incoming and outgoing f... 2023-03-10   \n",
            "3499  ✅ Trip Verified |  Back in December my family ... 2023-03-10   \n",
            "\n",
            "                   country  stars  verified  \\\n",
            "0            United States      5      True   \n",
            "1     United Arab Emirates      1      True   \n",
            "2           United Kingdom      1     False   \n",
            "3           United Kingdom      2      True   \n",
            "4            United States      1      True   \n",
            "...                    ...    ...       ...   \n",
            "3495               Ireland      1     False   \n",
            "3496        United Kingdom      3      True   \n",
            "3497        United Kingdom      4     False   \n",
            "3498        United Kingdom      3      True   \n",
            "3499             Australia      1      True   \n",
            "\n",
            "                                                 corpus  \n",
            "0     came glasgow london took connecting flight ame...  \n",
            "1     flight may got delayed hour minute resulted ca...  \n",
            "2     verified cairo hour flight ba considers short ...  \n",
            "3     travelling london madrid british airway iberia...  \n",
            "4     luggage mi tagged dallas way cairo via london ...  \n",
            "...                                                 ...  \n",
            "3495  verified literally one worst experience airpor...  \n",
            "3496  usual shambolic unfolding ba unfortunately com...  \n",
            "3497  verified lost case took week locate still repl...  \n",
            "3498  incoming outgoing flight delayed french air tr...  \n",
            "3499  back december family getting onto plane refuse...  \n",
            "\n",
            "[3500 rows x 6 columns]\n"
          ]
        }
      ]
    },
    {
      "cell_type": "code",
      "source": [
        "df.stars.value_counts()"
      ],
      "metadata": {
        "colab": {
          "base_uri": "https://localhost:8080/"
        },
        "id": "ILQxiHNK1jLa",
        "outputId": "6029c7f8-9c58-434b-b90b-c287dc10ff62"
      },
      "execution_count": 27,
      "outputs": [
        {
          "output_type": "execute_result",
          "data": {
            "text/plain": [
              "1     1733\n",
              "2      589\n",
              "3      381\n",
              "4      174\n",
              "10     174\n",
              "5      139\n",
              "7      138\n",
              "9      138\n",
              "8       34\n",
              "Name: stars, dtype: int64"
            ]
          },
          "metadata": {},
          "execution_count": 27
        }
      ]
    },
    {
      "cell_type": "code",
      "source": [
        "import os\n",
        "\n",
        "# Path to save the CSV file\n",
        "path = r'C:\\Users\\Dell\\Desktop\\Data Science\\Projects\\British airlines DA'\n",
        "\n",
        "# Create the directory if it doesn't exist\n",
        "if not os.path.exists(path):\n",
        "    os.makedirs(path)\n",
        "\n",
        "# Save DataFrame as CSV\n",
        "df.to_csv(os.path.join(path, 'cleaned_BA_reviews.csv'), index=False)"
      ],
      "metadata": {
        "id": "n8BoIC3OiA4k"
      },
      "execution_count": 31,
      "outputs": []
    }
  ],
  "metadata": {
    "colab": {
      "provenance": []
    },
    "kernelspec": {
      "display_name": "Python 3",
      "name": "python3"
    },
    "language_info": {
      "name": "python"
    }
  },
  "nbformat": 4,
  "nbformat_minor": 0
}