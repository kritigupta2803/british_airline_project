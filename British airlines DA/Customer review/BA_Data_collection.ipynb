{
  "nbformat": 4,
  "nbformat_minor": 0,
  "metadata": {
    "colab": {
      "provenance": []
    },
    "kernelspec": {
      "name": "python3",
      "display_name": "Python 3"
    },
    "language_info": {
      "name": "python"
    }
  },
  "cells": [
    {
      "cell_type": "code",
      "execution_count": 4,
      "metadata": {
        "id": "ScOXtjbVt3hA"
      },
      "outputs": [],
      "source": [
        "from bs4 import BeautifulSoup\n",
        "import lxml\n",
        "import requests\n",
        "import pandas as pd"
      ]
    },
    {
      "cell_type": "code",
      "source": [
        "#create an empty list to collect all reviews\n",
        "reviews  = []\n",
        "\n",
        "#create an empty list to collect rating stars\n",
        "stars = []\n",
        "\n",
        "#create an empty list to collect date\n",
        "date = []\n",
        "\n",
        "#create an empty list to collect country the reviewer is from\n",
        "country = []\n",
        "\n",
        "#rating\n",
        "stars = []"
      ],
      "metadata": {
        "id": "n0MOpNPat6Wj"
      },
      "execution_count": 5,
      "outputs": []
    },
    {
      "cell_type": "code",
      "source": [
        "for i in range(1, 36):\n",
        "    page = requests.get(f\"https://www.airlinequality.com/airline-reviews/british-airways/?sortby=post_date%3ADesc&pagesize=100\")\n",
        "\n",
        "    soup = BeautifulSoup(page.content, \"html5\")\n",
        "\n",
        "    #review\n",
        "    for item in soup.find_all(\"div\", class_=\"text_content\"):\n",
        "        reviews.append(item.text)\n",
        "\n",
        "    #date\n",
        "    for item in soup.find_all(\"time\"):\n",
        "        date.append(item.text)\n",
        "\n",
        "    #country\n",
        "    for item in soup.find_all(\"h3\"):\n",
        "        country.append(item.span.next_sibling.text.strip(\" ()\"))\n",
        "\n",
        "    #ratings\n",
        "    for item in soup.find_all(\"div\", class_=\"rating-10\"):\n",
        "        stars.append(item.text.strip())"
      ],
      "metadata": {
        "id": "sCDKwoDUt9M_"
      },
      "execution_count": 6,
      "outputs": []
    },
    {
      "cell_type": "code",
      "source": [
        "stars = stars[:len(reviews)]\n",
        "len(stars)"
      ],
      "metadata": {
        "colab": {
          "base_uri": "https://localhost:8080/"
        },
        "id": "a-09RtemuHp6",
        "outputId": "65df254b-62e7-430b-a05c-df17e62f1f33"
      },
      "execution_count": 7,
      "outputs": [
        {
          "output_type": "execute_result",
          "data": {
            "text/plain": [
              "3500"
            ]
          },
          "metadata": {},
          "execution_count": 7
        }
      ]
    },
    {
      "cell_type": "code",
      "source": [
        "#check the length of total reviews extracted\n",
        "len(reviews)"
      ],
      "metadata": {
        "colab": {
          "base_uri": "https://localhost:8080/"
        },
        "id": "ligv8f-vuPLA",
        "outputId": "03303bf8-c277-4937-e956-61419af97e1c"
      },
      "execution_count": 8,
      "outputs": [
        {
          "output_type": "execute_result",
          "data": {
            "text/plain": [
              "3500"
            ]
          },
          "metadata": {},
          "execution_count": 8
        }
      ]
    },
    {
      "cell_type": "code",
      "source": [
        "len(country)"
      ],
      "metadata": {
        "colab": {
          "base_uri": "https://localhost:8080/"
        },
        "id": "RYvGFj7WuSKT",
        "outputId": "62435ba2-4a58-418f-c4b2-0ab2f845219e"
      },
      "execution_count": 9,
      "outputs": [
        {
          "output_type": "execute_result",
          "data": {
            "text/plain": [
              "3500"
            ]
          },
          "metadata": {},
          "execution_count": 9
        }
      ]
    },
    {
      "cell_type": "code",
      "source": [
        "df = pd.DataFrame({\"reviews\":reviews, \"date\":date, \"country\": country, \"stars\": stars})"
      ],
      "metadata": {
        "id": "MwKp3LiHuUhs"
      },
      "execution_count": 10,
      "outputs": []
    },
    {
      "cell_type": "code",
      "source": [
        "import os\n",
        "\n",
        "# Path to save the CSV file\n",
        "path = r'C:\\Users\\Dell\\Desktop\\Data Science\\Projects\\British airlines DA'\n",
        "\n",
        "# Create the directory if it doesn't exist\n",
        "if not os.path.exists(path):\n",
        "    os.makedirs(path)\n",
        "\n",
        "# Save DataFrame as CSV\n",
        "df.to_csv(os.path.join(path, 'BA_reviews.csv'), index=False)"
      ],
      "metadata": {
        "id": "jry4mZ3FuXVt"
      },
      "execution_count": 12,
      "outputs": []
    }
  ]
}